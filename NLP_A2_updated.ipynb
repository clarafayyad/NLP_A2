{
  "cells": [
    {
      "cell_type": "code",
      "execution_count": 1,
      "metadata": {
        "colab": {
          "base_uri": "https://localhost:8080/"
        },
        "id": "b8bMqR_PZICz",
        "outputId": "6257a748-073f-4670-c0bd-a96839810c93"
      },
      "outputs": [
        {
          "name": "stderr",
          "output_type": "stream",
          "text": [
            "[nltk_data] Error loading punkt: <urlopen error [SSL:\n",
            "[nltk_data]     CERTIFICATE_VERIFY_FAILED] certificate verify failed:\n",
            "[nltk_data]     unable to get local issuer certificate (_ssl.c:1000)>\n",
            "[nltk_data] Error loading punkt_tab: <urlopen error [SSL:\n",
            "[nltk_data]     CERTIFICATE_VERIFY_FAILED] certificate verify failed:\n",
            "[nltk_data]     unable to get local issuer certificate (_ssl.c:1000)>\n"
          ]
        }
      ],
      "source": [
        "import os\n",
        "import numpy as np\n",
        "import matplotlib.pyplot as plt\n",
        "\n",
        "import nltk\n",
        "nltk.download('punkt')\n",
        "nltk.download('punkt_tab')\n",
        "\n",
        "from nltk.util import ngrams\n",
        "from nltk.tokenize import word_tokenize\n",
        "\n",
        "from collections import Counter\n",
        "\n",
        "os.makedirs('./results', exist_ok=True)\n",
        "\n",
        "with open('./brown_100.txt', 'r') as file_:\n",
        "    corpus = file_.read()\n",
        "\n",
        "def write_freqs(list_: list, filename: str) -> None:\n",
        "    with open(f'./results/{filename}.txt', 'w') as file_:\n",
        "        file_.write('\\n'.join([' '.join(x[0]) + ' | ' + str(x[1]) for x in list_]))"
      ]
    },
    {
      "cell_type": "markdown",
      "metadata": {
        "id": "hr1Q3ER1ZIC0"
      },
      "source": [
        "## N-Gram Language Modeling\n",
        "In the second assignment, you will implement an **n-gram language model** that processes input text to generate, analyze, and calculate the probabilities of sequences of `n` words (n-grams). This model will tokenize text, create n-grams, and compute their frequencies and probabilities, returning the most frequent n-grams in the text.\n",
        "\n",
        "1. **Tokenization**: Convert the input text into a list of words (tokens).\n",
        "2. **N-gram Generation**: Create sequences of `n` tokens from the text, treating each sentence independently with the inclusion of start (`<s>`) and end (`</s>`) markers.\n",
        "3. **Frequency Counting**: Count how many times each n-gram appears in the text.\n",
        "4. **Probability Calculation**: Compute the probabilities of each n-gram based on its frequency and add alpha smoothing to improve generalization of items.\n",
        "5. **Most Frequent N-grams**: Return the most frequent n-grams along with their probabilities, helping to identify common patterns in the text."
      ]
    },
    {
      "cell_type": "code",
      "execution_count": 2,
      "metadata": {
        "colab": {
          "base_uri": "https://localhost:8080/"
        },
        "id": "yXLVo7tcZIC1",
        "outputId": "3b0a96d0-0aa2-49dd-f4e3-d8e7e9424454"
      },
      "outputs": [
        {
          "name": "stdout",
          "output_type": "stream",
          "text": [
            "[(('<s>', 'this'), 1.0), (('this', 'is'), 0.5), (('is', 'a'), 1.0), (('a', 'simple'), 1.0), (('simple', 'example'), 1.0), (('example', 'to'), 1.0), (('to', 'demonstrate'), 1.0), (('demonstrate', 'how'), 1.0), (('how', 'n-grams'), 1.0), (('n-grams', 'work'), 1.0)]\n"
          ]
        }
      ],
      "source": [
        "from collections import Counter, defaultdict # You may import more from collections if needed\n",
        "from nltk.util import ngrams\n",
        "\n",
        "class NGramModel:\n",
        "    def __init__(self, text, n, alpha=0.0):\n",
        "        \"\"\"\n",
        "        Initialize the NGramModel with text and the value of n.\n",
        "        \"\"\"\n",
        "        self.text = text\n",
        "        self.n = n\n",
        "        self.alpha = alpha  # Alpha value for additive smoothing\n",
        "        self.ngrams = {}\n",
        "        self.probabilities = {}\n",
        "        self.vocab = set()\n",
        "        self.frequencies = {}\n",
        "\n",
        "    def tokenize(self) -> None:\n",
        "        \"\"\"\n",
        "        Tokenize the text into words.\n",
        "        Fill in the code to split the text into a list of words.\n",
        "        \"\"\"\n",
        "        return self.text.lower().replace(\"\\n\", \" \").split()\n",
        "\n",
        "\n",
        "    def generate_ngrams(self, tokens: list) -> dict:\n",
        "        \"\"\"\n",
        "        Generate n-grams from the list of tokens.\n",
        "        Fill in the code to create n-grams.\n",
        "        Make sure to treat each sentence independently, include the <s> and </s> tokens.\n",
        "        \"\"\"\n",
        "        self.ngrams = []\n",
        "        padded = ['<s>'] * (self.n - 1) + tokens + ['</s>']\n",
        "        self.vocab = set(padded)\n",
        "        for i in range(len(padded) - self.n + 1):\n",
        "          ngram = tuple(padded[i:i + self.n])\n",
        "          self.ngrams.append(ngram)\n",
        "\n",
        "        return self.ngrams\n",
        "\n",
        "    def count_frequencies(self) -> None:\n",
        "        \"\"\"\n",
        "        Count the frequencies of each n-gram.\n",
        "        Fill in the code to count n-gram occurrences.\n",
        "        \"\"\"\n",
        "        self.frequencies = Counter(self.ngrams)\n",
        "\n",
        "\n",
        "    def calculate_probabilities(self) -> None:\n",
        "      self.probabilities = {}\n",
        "      self.context_counts = Counter([ngram[:-1] for ngram in self.ngrams]) if self.n > 1 else {}\n",
        "      vocab_size = len(set(token for ngram in self.ngrams for token in ngram))\n",
        "\n",
        "      if self.n == 1:\n",
        "        total = sum(self.frequencies.values()) + self.alpha * vocab_size\n",
        "        for ngram in self.frequencies:\n",
        "            self.probabilities[ngram] = (self.frequencies[ngram] + self.alpha) / total\n",
        "      else:\n",
        "        for ngram in self.frequencies:\n",
        "            context = ngram[:-1]\n",
        "            count = self.frequencies[ngram]\n",
        "            context_count = self.context_counts[context]\n",
        "            self.probabilities[ngram] = (count + self.alpha) / (context_count + self.alpha * vocab_size)\n",
        "\n",
        "\n",
        "    def most_frequent_ngrams(self, top_n: int = 10) -> list:\n",
        "        \"\"\"\n",
        "        Return the most frequent n-grams and their probabilities.\n",
        "        \"\"\"\n",
        "        sorted_grams = sorted(self.frequencies.items(), key=lambda x: x[1], reverse=True)\n",
        "        return [(ngram, self.probabilities.get(ngram, 0)) for ngram, _ in sorted_grams[:top_n]]\n",
        "\n",
        "\n",
        "# Testing the model with an example\n",
        "text = \"This is a simple example to demonstrate how n-grams work in this assignment.\" #Faster than running the full corpus\n",
        "n = 2  # You can change this to 1, 2, or 3 for uni, bi, or trigrams\n",
        "model = NGramModel(text, n)\n",
        "\n",
        "tokens = model.tokenize()\n",
        "ngrams = model.generate_ngrams(tokens)\n",
        "model.count_frequencies()\n",
        "model.calculate_probabilities()\n",
        "\n",
        "# Print the most frequent n-grams\n",
        "print(model.most_frequent_ngrams(10))"
      ]
    },
    {
      "cell_type": "markdown",
      "metadata": {
        "id": "h-W56TLiZIC2"
      },
      "source": [
        "### Unigrams\n",
        "\n",
        "In this section, we apply the `NGramModel` to our corpus. The model can be configured to generate unigrams, bigrams, or trigrams by adjusting the value of `n`. After tokenizing the text and generating the n-grams, the model counts the occurrences of each n-gram and calculates their probabilities. The most frequent n-grams are then written to an output file.\n",
        "\n",
        "By adjusting the n-gram size, we can analyze different levels of word dependencies in the text, providing insights into common word sequences and patterns.  \n",
        "\n",
        "The code below will generate unigrams when the NGramModel is implemented correctly"
      ]
    },
    {
      "cell_type": "code",
      "execution_count": 3,
      "metadata": {
        "id": "gVH4ihjWZIC2"
      },
      "outputs": [],
      "source": [
        "from nltk.util import ngrams\n",
        "\n",
        "n = 1  # You can change this to 1, 2, or 3 for uni, bi, or trigrams\n",
        "model = NGramModel(corpus, n)\n",
        "\n",
        "tokens = model.tokenize()\n",
        "ngrams = model.generate_ngrams(tokens)\n",
        "model.count_frequencies()\n",
        "model.calculate_probabilities()\n",
        "\n",
        "write_freqs(model.most_frequent_ngrams(10), 'unigrams')"
      ]
    },
    {
      "cell_type": "markdown",
      "metadata": {
        "id": "XEmZP5FcZIC2"
      },
      "source": [
        "### Bigrams\n",
        "Bigrams allow us to explore word pairs and their relationships, providing insight into common word combinations and phrase structures within the corpus.  \n",
        "The code below will generate bigrams when the NGramModel is implemented correctly."
      ]
    },
    {
      "cell_type": "code",
      "execution_count": 4,
      "metadata": {
        "id": "16OGXDkWZIC3"
      },
      "outputs": [],
      "source": [
        "from nltk.util import ngrams\n",
        "\n",
        "n = 2  # You can change this to 1, 2, or 3 for uni, bi, or trigrams\n",
        "model = NGramModel(corpus, n)\n",
        "\n",
        "tokens = model.tokenize()\n",
        "ngrams = model.generate_ngrams(tokens)\n",
        "model.count_frequencies()\n",
        "model.calculate_probabilities()\n",
        "\n",
        "write_freqs(model.most_frequent_ngrams(10), 'bigrams')"
      ]
    },
    {
      "cell_type": "markdown",
      "metadata": {
        "id": "edy99aOiZIC3"
      },
      "source": [
        "### Trigrams\n",
        "Trigrams capture three-word sequences, providing a deeper understanding of longer word dependencies and commonly occurring phrases within the text.  \n",
        "The code below will generate trigrams when the NGramModel is implemented correctly"
      ]
    },
    {
      "cell_type": "code",
      "execution_count": 5,
      "metadata": {
        "id": "QKpAzo5eZIC3"
      },
      "outputs": [],
      "source": [
        "from nltk.util import ngrams\n",
        "\n",
        "n = 3  # You can change this to 1, 2, or 3 for uni, bi, or trigrams\n",
        "model = NGramModel(corpus, n)\n",
        "\n",
        "tokens = model.tokenize()\n",
        "ngrams = model.generate_ngrams(tokens)\n",
        "model.count_frequencies()\n",
        "model.calculate_probabilities()\n",
        "\n",
        "write_freqs(model.most_frequent_ngrams(10), 'trigrams')"
      ]
    },
    {
      "cell_type": "markdown",
      "metadata": {
        "id": "Ov_kTnv8ZIC3"
      },
      "source": [
        "### Smoothing\n",
        "Below, we generate **bigrams** with **smoothing** applied by setting `n = 2` and including a smoothing parameter `alpha = 1.0`. Smoothing is useful in language models to handle unseen n-grams by assigning a small probability to them. The model tokenizes the text, generates bigrams, counts their frequencies, and calculates smoothed probabilities. The most frequent bigrams are then written to an output file.\n",
        "\n",
        "\n",
        "\n"
      ]
    },
    {
      "cell_type": "code",
      "execution_count": 6,
      "metadata": {
        "id": "xZWfagDTZIC3"
      },
      "outputs": [],
      "source": [
        "from nltk.util import ngrams\n",
        "\n",
        "n = 2  # You can change this to 1, 2, or 3 for uni, bi, or trigrams\n",
        "model = NGramModel(corpus, n, alpha=1.0)\n",
        "\n",
        "tokens = model.tokenize()\n",
        "ngrams = model.generate_ngrams(tokens)\n",
        "model.count_frequencies()\n",
        "model.calculate_probabilities()\n",
        "\n",
        "write_freqs(model.most_frequent_ngrams(10), 'bigrams_smoothed')"
      ]
    },
    {
      "cell_type": "markdown",
      "metadata": {
        "id": "YIqzpkMFZIC4"
      },
      "source": [
        "### Generating Text\n",
        "In this example, we generate text using the **bigrams** model by providing a starting **prompt** (e.g., \"the jury\"). The `generate_text` function creates a sequence of words based on the trained bigram model, starting from the provided prompt and continuing based on the probabilities of the next words.\n",
        "\n",
        "After tokenizing the corpus, generating bigrams, and calculating their frequencies and probabilities, the model uses these learned probabilities to generate text. The generated output is then written to a file.\n",
        "\n",
        "Text generation with n-grams helps illustrate how language models can predict word sequences, allowing us to create new sentences that follow similar patterns found in the original text."
      ]
    },
    {
      "cell_type": "code",
      "execution_count": 10,
      "metadata": {
        "colab": {
          "base_uri": "https://localhost:8080/"
        },
        "id": "cYkGR19iZIC4",
        "outputId": "b673a866-cf72-4b68-cde9-bf14de9a88ca"
      },
      "outputs": [
        {
          "name": "stdout",
          "output_type": "stream",
          "text": [
            "the jury did find\n"
          ]
        }
      ],
      "source": [
        "from nltk.util import ngrams\n",
        "def ngrams_starting_with(model: NGramModel, word):\n",
        "    relevant_ngrams = {}\n",
        "    for ng, prob in model.probabilities.items():\n",
        "        if ng[0] == word:\n",
        "            relevant_ngrams[ng] = prob\n",
        "    return relevant_ngrams\n",
        "\n",
        "\n",
        "def generate_text(model: NGramModel, max_tokens: int, prompt: str) -> str:\n",
        "    generated_tokens = prompt.lower().split()\n",
        "\n",
        "    for _ in range(max_tokens):\n",
        "        context = generated_tokens[-1]\n",
        "        candidates = [(ngram[1], prob) for ngram, prob in model.probabilities.items() if ngram[0] == context]\n",
        "\n",
        "        if not candidates:\n",
        "            print(f\"No candidates found for context: '{context}'\")\n",
        "            break\n",
        "        words, probs = zip(*candidates)\n",
        "        probs = np.array(probs)\n",
        "        probs /= probs.sum()\n",
        "\n",
        "        next_word = np.random.choice(words, p=probs)\n",
        "\n",
        "        if next_word == \"</s>\":\n",
        "            break\n",
        "\n",
        "        generated_tokens.append(next_word)\n",
        "\n",
        "    return ' '.join(generated_tokens)\n",
        "\n",
        "\n",
        "tokens = model.tokenize()\n",
        "ngrams = model.generate_ngrams(tokens)\n",
        "model.count_frequencies()\n",
        "model.calculate_probabilities()\n",
        "\n",
        "generated_text = generate_text(model, 2, 'the jury')\n",
        "\n",
        "os.makedirs('./results', exist_ok=True)\n",
        "with open('./results/generated_bigrams.txt', 'w') as file_:\n",
        "    file_.write(generated_text)\n",
        "with open('./results/generated_bigrams.txt') as f:\n",
        "    print(f.read())\n"
      ]
    },
    {
      "cell_type": "markdown",
      "metadata": {
        "id": "_o2yRD-4ZIC4"
      },
      "source": [
        "## Word Vectors\n",
        "Based on the Stanford course: https://web.stanford.edu/class/cs224n/"
      ]
    },
    {
      "cell_type": "markdown",
      "metadata": {
        "id": "MQ0S-F98ZIC4"
      },
      "source": [
        "### Count based W2V\n",
        "In this section, we use the previously trained **n-gram model** to calculate a **co-occurrence matrix**. A co-occurrence matrix shows how often words appear together within a specific context (in this case, bigrams), providing insights into word relationships in the corpus.\n",
        "\n",
        "Steps:\n",
        "1. **Tokenization and N-gram Generation**: We first tokenize the text and generate bigrams using the `NGramModel`.\n",
        "2. **Vocabulary and Indexing**: The vocabulary is created from the unique tokens, and a word-to-index mapping is established.\n",
        "3. **Co-occurrence Matrix**: Using the generated n-grams, we compute the co-occurrence matrix, where each entry represents how often two words occur together within the bigrams.\n",
        "\n",
        "The co-occurrence matrix provides a numerical representation of word relationships, which is useful for tasks like word embeddings, semantic analysis, and understanding word associations."
      ]
    },
    {
      "cell_type": "code",
      "execution_count": null,
      "metadata": {
        "id": "4spaxc3sZIC4",
        "outputId": "7d642b60-8743-497f-f3b8-5440408dc5bb"
      },
      "outputs": [
        {
          "data": {
            "text/plain": [
              "array([[0, 0, 0, ..., 0, 0, 0],\n",
              "       [0, 0, 0, ..., 0, 0, 0],\n",
              "       [0, 0, 0, ..., 0, 0, 0],\n",
              "       ...,\n",
              "       [0, 0, 0, ..., 0, 0, 0],\n",
              "       [0, 0, 0, ..., 0, 0, 0],\n",
              "       [0, 0, 0, ..., 0, 0, 0]], dtype=int32)"
            ]
          },
          "execution_count": 8,
          "metadata": {},
          "output_type": "execute_result"
        }
      ],
      "source": [
        "# Since we already have a working ngram model, for the next part we can use the ngrams to calculate the co-occurences.\n",
        "model = NGramModel(corpus, 2)\n",
        "tokens = model.tokenize()\n",
        "ngrams = model.generate_ngrams(tokens)\n",
        "\n",
        "def create_co_matrix(ngrams: list, vocab_size: int, word_to_index: dict) -> np.ndarray:\n",
        "    co_matrix = np.zeros((vocab_size, vocab_size), dtype=np.int32)\n",
        "\n",
        "    for w1, w2 in ngrams:\n",
        "        if (w1 not in word_to_index or w2 not in word_to_index):\n",
        "            continue\n",
        "        i, j = word_to_index[w1], word_to_index[w2]\n",
        "        co_matrix[i][j] += 1\n",
        "\n",
        "    return co_matrix\n",
        "\n",
        "vocab = list(set(tokens))\n",
        "vocab_size = len(vocab)\n",
        "\n",
        "# Create a word-to-index mapping\n",
        "word_to_index = {word: idx for idx, word in enumerate(vocab)}\n",
        "\n",
        "# Generate the co-occurrence matrix\n",
        "co_matrix = create_co_matrix(ngrams, vocab_size, word_to_index)\n",
        "\n",
        "# Optionally, print the matrix or parts of it\n",
        "# print(co_matrix.value_counts())\n",
        "co_matrix"
      ]
    },
    {
      "cell_type": "markdown",
      "metadata": {
        "id": "sTgvktxoZIC5"
      },
      "source": [
        "With the code below you can verify if the co-occurence works"
      ]
    },
    {
      "cell_type": "code",
      "execution_count": null,
      "metadata": {
        "id": "EoEAvlJfZIC5",
        "outputId": "d608fc9d-d903-453e-a61e-08f2310e391a"
      },
      "outputs": [
        {
          "name": "stdout",
          "output_type": "stream",
          "text": [
            "Co-occurrence count for 'the' and 'jury': 13\n",
            "One or both words 'the' and 'cat' are not in the vocabulary.\n"
          ]
        }
      ],
      "source": [
        "def check_co_occurrence(word1, word2, co_matrix, word_to_index):\n",
        "    \"\"\"\n",
        "    Print the co-occurrence count for a specific word pair.\n",
        "    \"\"\"\n",
        "    if word1 not in word_to_index or word2 not in word_to_index:\n",
        "        print(f\"One or both words '{word1}' and '{word2}' are not in the vocabulary.\")\n",
        "        return\n",
        "\n",
        "    index1 = word_to_index[word1]\n",
        "    index2 = word_to_index[word2]\n",
        "\n",
        "    co_count = co_matrix[index1][index2]\n",
        "    print(f\"Co-occurrence count for '{word1}' and '{word2}': {co_count}\")\n",
        "\n",
        "check_co_occurrence('the', 'jury', co_matrix, word_to_index)\n",
        "check_co_occurrence('the', 'cat', co_matrix, word_to_index)"
      ]
    },
    {
      "cell_type": "markdown",
      "metadata": {
        "id": "0iqPArOAZIC5"
      },
      "source": [
        "In this part, we reduce the dimensionality of the **co-occurrence matrix** using **Singular Value Decomposition (SVD)**. This technique helps in extracting the most important features from the matrix, making it easier to visualize and interpret the relationships between words.\n",
        "\n",
        "Steps:\n",
        "1. **Singular Value Decomposition (SVD)**: The co-occurrence matrix is decomposed into three matrices: \\( M = U \\cdot \\Sigma \\cdot V^T \\).\n",
        "2. **Dimensionality Reduction**: We retain only the top `k` components (default is 2) from the SVD, effectively reducing the dimensionality of the matrix.\n",
        "3. **Reduced Matrix**: The reduced matrix retains the most important semantic information and can be used for tasks such as **word embedding visualization** or **semantic similarity analysis**.\n",
        "\n",
        "Dimensionality reduction allows us to capture the essence of word relationships in fewer dimensions, making it more efficient to process and visualize the data."
      ]
    },
    {
      "cell_type": "code",
      "execution_count": null,
      "metadata": {
        "id": "APFxkkwlZIC5"
      },
      "outputs": [],
      "source": [
        "def reduce_to_k_dim(M, k=2):\n",
        "    U, S, VT = np.linalg.svd(M, full_matrices=False)\n",
        "\n",
        "    U_k = U[:, :k]\n",
        "    S_k = np.diag(S[:k])\n",
        "    VT_k = VT[:k, :]\n",
        "\n",
        "    M_reduced = np.dot(U_k, np.dot(S_k, VT_k))\n",
        "\n",
        "    return M_reduced"
      ]
    },
    {
      "cell_type": "markdown",
      "metadata": {
        "id": "ccxwlMbkZIC5"
      },
      "source": [
        "In this final part, we visualize the reduced word embeddings in **2D space**. After reducing the dimensionality of the co-occurrence matrix using SVD, we plot the embeddings for each word to observe their relationships in a low-dimensional space.\n",
        "\n",
        "Steps:\n",
        "1. **Plotting the Embeddings**: Each word from the vocabulary is plotted based on its 2D coordinates from the reduced matrix.\n",
        "2. **Visualization**: The scatter plot allows us to see how words cluster together or relate to each other based on co-occurrences in the text. Words with similar contexts should appear closer to each other in the plot.\n",
        "3. **Interpretation**: By looking at the 2D plot, we can analyze word similarities, relationships, and clusters formed by words that often occur together.\n",
        "\n",
        "This visualization is a useful tool for understanding the structure of word embeddings and the relationships between words in the corpus.\n",
        "\n",
        "\n",
        "\n",
        "\n",
        "\n"
      ]
    },
    {
      "cell_type": "code",
      "execution_count": null,
      "metadata": {
        "id": "BXORRoe4ZIC6",
        "outputId": "2a387b72-7404-4579-eab0-eb57d4d85d8c"
      },
      "outputs": [
        {
          "data": {
            "image/png": "[encoded data removed]",
            "text/plain": [
              "<Figure size 800x600 with 1 Axes>"
            ]
          },
          "metadata": {},
          "output_type": "display_data"
        }
      ],
      "source": [
        "def plot_embeddings(M_reduced, words):\n",
        "    plt.figure(figsize=(8, 6))\n",
        "    word_to_index = {word: idx for idx, word in enumerate(words)}\n",
        "\n",
        "    for word in words:\n",
        "        if word in word_to_index:\n",
        "            idx = word_to_index[word]\n",
        "            x, y = M_reduced[idx, 0], M_reduced[idx, 1]\n",
        "            plt.scatter(x, y, marker='o')\n",
        "            plt.text(x, y, word, fontsize=9)\n",
        "\n",
        "    plt.title(\"2D Word Embeddings from Co-occurrence Matrix (SVD)\")\n",
        "    plt.xlabel(\"Component 1\")\n",
        "    plt.ylabel(\"Component 2\")\n",
        "    plt.grid(True)\n",
        "    plt.show()\n",
        "\n",
        "words = ['movie', 'book', 'mysterious', 'story', 'fascinating', 'good', 'interesting', 'large', 'massive', 'huge']\n",
        "M_reduced = reduce_to_k_dim(co_matrix)\n",
        "plot_embeddings(M_reduced, words)"
      ]
    },
    {
      "cell_type": "markdown",
      "metadata": {
        "id": "F7tYEwr1ZIC6"
      },
      "source": [
        "## Prediction-Based Word Vectors\n",
        "In this section, we load pre-trained word vectors using the **GloVe** embeddings from the [Stanford NLP paper on GloVe](https://nlp.stanford.edu/pubs/glove.pdf). The pre-trained embeddings provide rich semantic information about words based on large text corpora, allowing us to represent words as vectors that capture their meaning and relationships.\n",
        "\n",
        "Steps:\n",
        "1. **Load GloVe Word Vectors**: We use the GloVe embeddings from the `glove-wiki-gigaword-200` model, which has 200-dimensional vectors for each word.\n",
        "2. **Vocabulary Matching**: We map the words from our corpus to the GloVe vocabulary and extract the corresponding vectors.\n",
        "3. **Dimensionality Reduction**: After obtaining the word vectors, we reduce the dimensionality to visualize the embeddings in 2D space, allowing us to explore word relationships visually.\n",
        "\n",
        "This is an excellent opportunity to explore how pre-trained embeddings like GloVe can be used to improve downstream NLP tasks by providing richer word representations."
      ]
    },
    {
      "cell_type": "code",
      "execution_count": null,
      "metadata": {
        "id": "jjxkGeJhZIC6",
        "outputId": "6700e2b9-b43e-4977-a496-157bd2c579f1"
      },
      "outputs": [
        {
          "name": "stdout",
          "output_type": "stream",
          "text": [
            "Loaded vocab size 400000\n",
            "rendering M based on wv\n",
            "rendering M based on unique_tokens\n"
          ]
        }
      ],
      "source": [
        "# Do not edit\n",
        "import gensim.downloader as api\n",
        "import numpy as np\n",
        "wv_from_bin = api.load(\"glove-wiki-gigaword-200\")\n",
        "print(\"Loaded vocab size %i\" % len(list(wv_from_bin.index_to_key)))\n",
        "\n",
        "wv_words = list(wv_from_bin.index_to_key)\n",
        "unique_tokens = set(tokens)\n",
        "word2ind = {}\n",
        "M = []\n",
        "idx = 0\n",
        "print('rendering M based on wv')\n",
        "for w in wv_words:\n",
        "    try:\n",
        "        M.append(wv_from_bin.get_vector(w))\n",
        "        word2ind[w] = idx\n",
        "        idx += 1\n",
        "    except:\n",
        "        pass\n",
        "\n",
        "print('rendering M based on unique_tokens')\n",
        "for w in unique_tokens:\n",
        "    if w in wv_words:\n",
        "        continue\n",
        "    try:\n",
        "        M.append(wv_from_bin.get_vector(w))\n",
        "        word2ind[w] = idx\n",
        "        idx += 1\n",
        "    except:\n",
        "        pass\n",
        "M = np.stack(M)\n",
        "M_reduced = reduce_to_k_dim(M, k=2)\n",
        "\n",
        "M_lengths = np.linalg.norm(M_reduced, axis=1)\n",
        "M_reduced_normalized = M_reduced / M_lengths[:, np.newaxis]"
      ]
    },
    {
      "cell_type": "markdown",
      "metadata": {
        "id": "98tMpGvMZIC6"
      },
      "source": [
        "### Compare plots\n",
        "What stands out when comparing the two different ways of embedding using the given words?\n",
        "\n",
        "(Use this to help answer the question in your assignment document)."
      ]
    },
    {
      "cell_type": "code",
      "execution_count": null,
      "metadata": {
        "id": "snxvRX3fZIC6",
        "outputId": "66941b87-ce65-472e-a57e-29c5b5469517"
      },
      "outputs": [
        {
          "data": {
            "image/png": "[encoded data removed]",
            "text/plain": [
              "<Figure size 800x600 with 1 Axes>"
            ]
          },
          "metadata": {},
          "output_type": "display_data"
        }
      ],
      "source": [
        "plot_embeddings(M_reduced_normalized, tokens)"
      ]
    },
    {
      "cell_type": "markdown",
      "metadata": {
        "id": "zRg9vG-yZIC7"
      },
      "source": [
        "### Words with multiple meanings\n",
        "Polysemes and homonyms are words that have more than one meaning (see [this wiki page](https://en.wikipedia.org/wiki/Polysemy) to learn more about the difference between polysemes and homonyms). Your task is to find a word with at least two different meanings such that the top-10 most similar words (according to cosine similarity) contain related words from both meanings.\n",
        "\n",
        "For example:\n",
        "- \"leaves\" has both the \"go_away\" and \"a_structure_of_a_plant\" meanings in the top 10.\n",
        "- \"scoop\" has both \"handed_waffle_cone\" and \"lowdown\" meanings in the top 10.\n",
        "\n",
        "You will probably need to try several polysemous or homonymic words before you find one.\n",
        "\n",
        "Once you discover a word that fits this criterion, state the word and explain the multiple meanings that occur in the top 10. Reflect on why many of the polysemous or homonymic words you tried didn’t work (i.e., why the top-10 most similar words only contain one of the word's meanings).\n",
        "\n",
        "**Note**: Use the `wv_from_bin.most_similar(word)` function to get the top 10 most similar words. This function ranks all other words in the vocabulary based on their cosine similarity to the given word. For further assistance, you can refer to the [Gensim documentation](https://radimrehurek.com/gensim/models/keyedvectors.html)."
      ]
    },
    {
      "cell_type": "code",
      "execution_count": null,
      "metadata": {
        "id": "liWdTl5YZIC7",
        "outputId": "bf4f4c1b-a39b-4361-daea-64bc8af9e457"
      },
      "outputs": [
        {
          "data": {
            "text/plain": [
              "[('seals', 0.7311047911643982),\n",
              " ('sealing', 0.6171486377716064),\n",
              " ('sealed', 0.5628460645675659),\n",
              " ('crabeater', 0.45116424560546875),\n",
              " ('pelts', 0.4378356635570526),\n",
              " ('remove', 0.430713951587677),\n",
              " ('wrap', 0.42121368646621704),\n",
              " ('coat', 0.42117998003959656),\n",
              " ('airtight', 0.408542662858963),\n",
              " ('protect', 0.4069032371044159)]"
            ]
          },
          "execution_count": 14,
          "metadata": {},
          "output_type": "execute_result"
        }
      ],
      "source": [
        "# word with at least two different meanings:\n",
        "wv_from_bin.most_similar(\"seal\")"
      ]
    },
    {
      "cell_type": "markdown",
      "metadata": {
        "id": "gPDhwcgoZIC7"
      },
      "source": [
        "<span style=\"color:blue\">\n",
        "\n",
        "There are mainly two meanings conveyed here: \"the animal\", and \"to close or protect something\"\n",
        "\n",
        "- seals = both meanings\n",
        "- sealing\t= Closing something\n",
        "- sealed\t= Closed\n",
        "- crabeater = Type of seal (animal meaning)\n",
        "- pelts = Animal fur (animal meaning)\n",
        "- remove = Vague, but contextually opposite of sealing\n",
        "- wrap = Related to sealing/covering\n",
        "- coat = Related to outer covering (overlaps with both)\n",
        "- airtight = Related to sealing something\n",
        "- protect\t= Related to sealing/covering\n",
        "\n",
        "</span>"
      ]
    },
    {
      "cell_type": "code",
      "execution_count": null,
      "metadata": {
        "id": "mIgcBA6IZIC7",
        "outputId": "9f9361fe-5e74-44c2-c6b1-9107dd68fe47"
      },
      "outputs": [
        {
          "data": {
            "text/plain": [
              "[('band', 0.694769561290741),\n",
              " ('pop', 0.674067497253418),\n",
              " ('punk', 0.6610648036003113),\n",
              " ('bands', 0.6459488272666931),\n",
              " (\"'n'\", 0.6244866847991943),\n",
              " ('rocks', 0.6163124442100525),\n",
              " ('album', 0.6133195161819458),\n",
              " ('albums', 0.6000897884368896),\n",
              " ('music', 0.5990884900093079),\n",
              " ('rap', 0.5837082266807556)]"
            ]
          },
          "execution_count": 15,
          "metadata": {},
          "output_type": "execute_result"
        }
      ],
      "source": [
        "# words that didn't work\n",
        "wv_from_bin.most_similar(\"rock\")"
      ]
    },
    {
      "cell_type": "markdown",
      "metadata": {
        "id": "WCHznaUeZIC7"
      },
      "source": [
        "<span style=\"color:blue\">There is **mainly** one meaning here: \"music\"</span>"
      ]
    },
    {
      "cell_type": "markdown",
      "metadata": {
        "id": "Pxga4x76ZIC7"
      },
      "source": [
        "<span style=\"color:blue\">Many polysemous words didn’t show multiple meanings because GloVe gives each word only one vector. If one meaning is more common in the training data, it dominates the embedding, so less frequent senses don’t appear in the top similar words.</span>\n",
        "\n"
      ]
    },
    {
      "cell_type": "markdown",
      "metadata": {
        "id": "A3qy6fc4ZIC8"
      },
      "source": [
        "### Synonyms\n",
        "When considering **Cosine Similarity**, it's often useful to think of **Cosine Distance**, which is simply 1 - Cosine Similarity.\n",
        "\n",
        "Find three words \\( (w_1, w_2, w_3) \\) where:\n",
        "- \\(w_1\\) and \\(w_2\\) are **synonyms**.\n",
        "- \\(w_1\\) and \\(w_3\\) are **antonyms**.\n",
        "\n",
        "However, you need to find a case where **Cosine Distance** \\( (w_1, w_3) < \\text{Cosine Distance} (w_1, w_2) \\). In other words, the antonym is **closer** to the word than its synonym in the vector space.\n",
        "\n",
        "For example, \"happy\" (\\(w_1\\)) may be closer to \"sad\" (\\(w_3\\)) than to \"cheerful\" (\\(w_2\\)), which is counter-intuitive since we expect synonyms to be closer than antonyms.\n",
        "\n",
        "Once you find such an example, provide a possible explanation for why this result may have occurred.\n",
        "\n",
        "Use the `wv_from_bin.distance(w1, w2)` function to compute the cosine distance between two words. You can refer to the [Gensim documentation](https://radimrehurek.com/gensim/models/keyedvectors.html) for further assistance.\n",
        "\n",
        "\n",
        "\n",
        "\n",
        "\n"
      ]
    },
    {
      "cell_type": "code",
      "execution_count": null,
      "metadata": {
        "id": "j-BC3ndXZIC8",
        "outputId": "aaf978ac-2085-4c56-de1b-baa60c7dce5d"
      },
      "outputs": [
        {
          "name": "stdout",
          "output_type": "stream",
          "text": [
            "0.5172466933727264\n",
            "0.40401363372802734\n"
          ]
        }
      ],
      "source": [
        "w1 = \"happy\"\n",
        "w2 = \"cheerful\"\n",
        "w3 = \"sad\"\n",
        "\n",
        "print(wv_from_bin.distance(w1, w2))\n",
        "print(wv_from_bin.distance(w1, w3))"
      ]
    },
    {
      "cell_type": "code",
      "execution_count": null,
      "metadata": {
        "id": "vZlpsAHFZIC8",
        "outputId": "51dbcdcc-f19c-4adb-a935-1f57f619862c"
      },
      "outputs": [
        {
          "name": "stdout",
          "output_type": "stream",
          "text": [
            "0.3328641653060913\n",
            "0.2522680163383484\n"
          ]
        }
      ],
      "source": [
        "w1 = \"fast\"\n",
        "w2 = \"quick\"\n",
        "w3 = \"slow\"\n",
        "\n",
        "print(wv_from_bin.distance(w1, w2))\n",
        "print(wv_from_bin.distance(w1, w3))"
      ]
    },
    {
      "cell_type": "markdown",
      "metadata": {
        "id": "r7-gpYVcZIC8"
      },
      "source": [
        "<span style=\"color:blue\">\n",
        "\n",
        "Possible Explanation:\n",
        "Antonyms often appear in similar contexts (e.g., \"I feel happy/sad today\"). Since GloVe is trained on co-occurrence statistics, it places words that appear in similar environments close together—even if their meanings are opposite. On the other hand, \"cheerful\" may be used in slightly different contexts or be less frequent in the corpus, causing it to end up farther away.\n",
        "\n",
        "The result where **\"fast\"** is closer to **\"slow\"** than to **\"quick\"** could be due to contextual usage. **\"Fast\"** and **\"slow\"** might appear in similar contexts (e.g., \"slow day\" or \"fast food\"), leading the model to map them closer together. Additionally, **\"slow\"** can have broader meanings beyond just the antonym of **\"fast\"**, which could influence the model's vector similarity.\n",
        "\n",
        "</span>"
      ]
    },
    {
      "cell_type": "markdown",
      "metadata": {
        "id": "A1scF_egZIC8"
      },
      "source": [
        "### Analogies\n",
        "Word vectors have demonstrated the ability to solve analogies based on their learned semantic relationships. For instance, consider the analogy:\n",
        "\n",
        "**\"man : grandfather :: woman : x\"**\n",
        "\n",
        "(Read: man is to grandfather as woman is to x). Using word vectors, we can find the word \\(x\\) that completes the analogy.\n",
        "\n",
        "In the example provided, we use the `most_similar` function from the Gensim library. This function identifies words that are most similar to the words in the positive list and most dissimilar to those in the negative list. For analogy solving, it effectively computes:\n",
        "\n",
        "\\[ \\text{word}(x) = \\text{most similar to} (\\text{woman} + \\text{grandfather} - \\text{man}) \\]\n",
        "\n",
        "The result is the word with the highest cosine similarity to the target vector. You can use this approach to explore various analogies and gain insights into the semantic structure of word vectors.\n",
        "\n",
        "Refer to the [Gensim documentation](https://radimrehurek.com/gensim/models/keyedvectors.html) for more details on the `most_similar` function and how word vectors handle analogy-solving tasks."
      ]
    },
    {
      "cell_type": "code",
      "execution_count": null,
      "metadata": {
        "id": "TJgAkFurZIC9",
        "outputId": "e7786f13-176f-4468-a2a6-14bff792dc28"
      },
      "outputs": [
        {
          "name": "stdout",
          "output_type": "stream",
          "text": [
            "[('grandmother', 0.7608445286750793), ('granddaughter', 0.7200808525085449), ('daughter', 0.7168302536010742), ('mother', 0.7151536345481873), ('niece', 0.7005682587623596), ('father', 0.6659887433052063), ('aunt', 0.6623408794403076), ('grandson', 0.6618767976760864), ('grandparents', 0.6446609497070312), ('wife', 0.644535481929779)]\n"
          ]
        }
      ],
      "source": [
        "# Run this cell to answer the analogy -- man : grandfather :: woman : x\n",
        "print(wv_from_bin.most_similar(positive=['woman', 'grandfather'], negative=['man']))"
      ]
    },
    {
      "cell_type": "markdown",
      "metadata": {
        "id": "yKpeN_1IZIC9"
      },
      "source": [
        "### Bias in word vectors\n",
        "a. **Observation**: Consider the results of a word vector model when queried with analogies involving \"man\", \"woman\", and \"profession\". What are the top results returned by the model for each query?\n",
        "\n",
        "<span style=\"color:blue\">Top results returned for \"woman : profession :: man : x\" are: \"reputation\", \"professions\", \"skill\", \"skills\", \"ethic\", \"business\", \"respected\", \"practice\", \"regarded\" and \"life\"</span>\n",
        "\n",
        "<span style=\"color:blue\">Top results returned for \"man : profession :: woman : x\" are: \"professions\", \"practitioner\", \"teaching\", \"nursing\", \"vocation\", \"teacher\", \"practicing\", \"educator\", \"physicians\", and \"professionals\". </span>\n",
        "\n",
        "\n",
        "b. **Analysis**: Do you observe any gender biases in the results? For example, are certain professions more closely associated with \"man\" or \"woman\" based on the word vectors? Discuss how word embeddings might perpetuate societal biases present in the training data.\n",
        "\n",
        "<span style=\"color:blue\">Yes, there is evidence of gender bias. \"Man\" is associated with traits like reputation and skill. \"Woman\" is associated with roles like nursing, teaching, and educator, which reflects traditional professions per gender.\n",
        "Word embeddings might perpetuate societal biases by reflecting stereotypes and professional biases present in the training data. </span>\n",
        "\n",
        "c. **Reflection**: How might such biases affect the fairness of machine learning models that use word embeddings? Suggest potential strategies for mitigating gender bias in word vector models.\n",
        "\n",
        "<span style=\"color:blue\"> Bias in embeddings can lead to unfair model behavior, for example: stereotyping in job recommendation systems.\n",
        "Possible mitigation strategies include: </span>\n",
        "- <span style=\"color:blue\">More balanced datasets,</span>\n",
        "- <span style=\"color:blue\">Neutralizing: Removing gender components from words that should be gender-neutral (e.g., \"doctor\", \"nurse\"), ensuring they don't align with the gender direction in the embedding space.</span>\n",
        "- <span style=\"color:blue\">Equalizing: Ensuring that word pairs like (\"man\", \"woman\") are equidistant from gender-neutral words.</span>\n",
        "</span>\n",
        "\n",
        "<span style=\"color:blue\">source: https://towardsdatascience.com/tackling-gender-bias-in-word-embeddings-c965f4076a10/</span>"
      ]
    },
    {
      "cell_type": "code",
      "execution_count": null,
      "metadata": {
        "id": "V4jUxt5WZIDD",
        "outputId": "5a2bc162-fa17-40c8-91d3-ec2e65278485"
      },
      "outputs": [
        {
          "name": "stdout",
          "output_type": "stream",
          "text": [
            "[('reputation', 0.5250176787376404), ('professions', 0.5178037881851196), ('skill', 0.49046966433525085), ('skills', 0.49005505442619324), ('ethic', 0.4897659420967102), ('business', 0.487585186958313), ('respected', 0.485920250415802), ('practice', 0.4821045696735382), ('regarded', 0.4778572618961334), ('life', 0.4760662019252777)]\n",
            "\n",
            "[('professions', 0.5957458019256592), ('practitioner', 0.4988412857055664), ('teaching', 0.48292139172554016), ('nursing', 0.48211804032325745), ('vocation', 0.4788965880870819), ('teacher', 0.47160351276397705), ('practicing', 0.4693780839443207), ('educator', 0.46524327993392944), ('physicians', 0.4628995656967163), ('professionals', 0.46013936400413513)]\n"
          ]
        }
      ],
      "source": [
        "print(wv_from_bin.most_similar(positive=['man', 'profession'], negative=['woman']))\n",
        "print()\n",
        "print(wv_from_bin.most_similar(positive=['woman', 'profession'], negative=['man']))"
      ]
    }
  ],
  "metadata": {
    "colab": {
      "provenance": []
    },
    "kernelspec": {
      "display_name": "Python 3",
      "language": "python",
      "name": "python3"
    },
    "language_info": {
      "codemirror_mode": {
        "name": "ipython",
        "version": 3
      },
      "file_extension": ".py",
      "mimetype": "text/x-python",
      "name": "python",
      "nbconvert_exporter": "python",
      "pygments_lexer": "ipython3",
      "version": "3.12.6"
    }
  },
  "nbformat": 4,
  "nbformat_minor": 0
}
