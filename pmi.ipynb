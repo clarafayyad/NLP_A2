{
 "cells": [
  {
   "cell_type": "code",
   "execution_count": 1,
   "id": "28a700b2-9725-4200-9749-1de2e7abdca9",
   "metadata": {},
   "outputs": [],
   "source": [
    "import numpy as np\n",
    "import matplotlib.pyplot as plt\n",
    "\n",
    "import nltk"
   ]
  },
  {
   "cell_type": "markdown",
   "id": "5086a884-89ac-4011-af6e-27abc1868068",
   "metadata": {},
   "source": [
    "## Bonus question: PMI"
   ]
  },
  {
   "cell_type": "markdown",
   "id": "157608d9-3e04-40d5-941d-281b110e667f",
   "metadata": {},
   "source": [
    "In statistical NLP, we frequently make independence assumptions about relevant events which are not actually correct in reality. We are asking you to test the independence assumptions of unigram language models. Pointwise mutual information (PMI), is a measure of statistical dependence of the events \n",
    "Xt = w1 and Xt+1 = w2; \n",
    "C(w) is the absolute frequency and N is the size of the corpus. \n",
    "If the probability of the next word in the corpus being w2 is unaffected by the probability of the previous word being w1, then pmi(w1, w2) = 0; otherwise the PMI is positive or negative."
   ]
  },
  {
   "cell_type": "markdown",
   "id": "1a056b24-ccde-4ebf-b911-333aa5e9d54f",
   "metadata": {},
   "source": [
    "**Note that the PMI is simillar to the exercise XX from the first assignment: coocurences of ACGT or whatever it was.**"
   ]
  },
  {
   "cell_type": "markdown",
   "id": "4cfa2340-1ad0-46c2-a37a-d3dd315568f1",
   "metadata": {},
   "source": [
    "### Step 1. Calculate the PMI for all successive pairs (w1, w2) of words in the Brown corpus. \n",
    "Task: Words (not word pairs!) that occur in the corpus less than 10 times should be ignored. List the 20 word pairs with the highest PMI value and the 20 word pairs with the lowest PMI value.  \n",
    "Our answer: We use brown corpus for this assignment. To calculate the PMI scores of the brown corpus we followed this tutorial: https://www.listendata.com/2022/06/pointwise-mutual-information-pmi.html"
   ]
  },
  {
   "cell_type": "code",
   "execution_count": null,
   "id": "534a2162-cefd-464f-8e10-764b9dffc648",
   "metadata": {},
   "outputs": [],
   "source": [
    "# step 1 Tokenisation\n",
    "\n",
    "# step 2 Count of Words\n",
    "\n",
    "# step 3 Co-occurence matrix\n",
    "\n",
    "# step 4 Compute PMI score"
   ]
  },
  {
   "cell_type": "markdown",
   "id": "6567cce9-9092-4e39-93fd-dc87ccc83451",
   "metadata": {},
   "source": [
    "### Step 2. Discuss the validity of the independence assumption for unigram models. \n",
    "Give 2-3 examples from your results to support your ideas."
   ]
  },
  {
   "cell_type": "code",
   "execution_count": null,
   "id": "02eb0494-af4d-49ac-92e2-65253c82314c",
   "metadata": {},
   "outputs": [],
   "source": []
  },
  {
   "cell_type": "markdown",
   "id": "5ab5419e-fef6-4254-a052-2d6acdbc430a",
   "metadata": {},
   "source": [
    "### Step 3. Extend step 1 by researching and implementing both PMI and positive pointwise mutual information (PPMI). \n",
    "Do so on the entire Brown corpus and brown100. Document and submit your code with observations as comments in the same file as step 1."
   ]
  },
  {
   "cell_type": "code",
   "execution_count": null,
   "id": "7150184a-6d74-4552-b241-2cf024a59f3f",
   "metadata": {},
   "outputs": [],
   "source": []
  },
  {
   "cell_type": "markdown",
   "id": "1e41e10d-7922-4cde-8bf5-ae73f284dea1",
   "metadata": {},
   "source": [
    "### Step 4. How does PPMI differ from PMI?\n",
    "Both generally and given specific examples from your results?"
   ]
  },
  {
   "cell_type": "code",
   "execution_count": null,
   "id": "ff4aac26-7f69-4a60-9fe8-c345c20a8777",
   "metadata": {},
   "outputs": [],
   "source": []
  }
 ],
 "metadata": {
  "kernelspec": {
   "display_name": "Python 3 (ipykernel)",
   "language": "python",
   "name": "python3"
  },
  "language_info": {
   "codemirror_mode": {
    "name": "ipython",
    "version": 3
   },
   "file_extension": ".py",
   "mimetype": "text/x-python",
   "name": "python",
   "nbconvert_exporter": "python",
   "pygments_lexer": "ipython3",
   "version": "3.11.7"
  }
 },
 "nbformat": 4,
 "nbformat_minor": 5
}
